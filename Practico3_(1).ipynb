{
  "cells": [
    {
      "cell_type": "markdown",
      "source": [
        "# Código de inicialización\n",
        "Este código permite inicializar las bibliotecas para usar SQLite en la máquina virtual de Google Colab. El código además elimina cualquier dato almacenado anteriormente en el archivo `ejemplos.db`. Es recomendable volver a correr el código cada vez que se comience con la resolución de un nuevo ejercicio."
      ],
      "metadata": {
        "id": "DjHhXn_TLNGN"
      }
    },
    {
      "cell_type": "code",
      "source": [
        "!pip install pymysql\n",
        "%load_ext sql\n",
        "!rm -rf ejemplos.db\n",
        "%sql sqlite:///ejemplos.db"
      ],
      "metadata": {
        "colab": {
          "base_uri": "https://localhost:8080/"
        },
        "id": "ifunVFp6LNGT",
        "outputId": "ffcfd129-f15a-463b-b8fc-8ec26765c26b"
      },
      "execution_count": 1,
      "outputs": [
        {
          "output_type": "stream",
          "name": "stdout",
          "text": [
            "Collecting pymysql\n",
            "  Downloading PyMySQL-1.1.1-py3-none-any.whl.metadata (4.4 kB)\n",
            "Downloading PyMySQL-1.1.1-py3-none-any.whl (44 kB)\n",
            "\u001b[2K   \u001b[90m━━━━━━━━━━━━━━━━━━━━━━━━━━━━━━━━━━━━━━━━\u001b[0m \u001b[32m45.0/45.0 kB\u001b[0m \u001b[31m1.7 MB/s\u001b[0m eta \u001b[36m0:00:00\u001b[0m\n",
            "\u001b[?25hInstalling collected packages: pymysql\n",
            "Successfully installed pymysql-1.1.1\n"
          ]
        }
      ]
    },
    {
      "cell_type": "markdown",
      "source": [
        "# EJERCICIOS DE GROUP y HAVING"
      ],
      "metadata": {
        "id": "SJ3BOiLlLNGc"
      }
    },
    {
      "cell_type": "markdown",
      "source": [
        "## Ejercicio 1: Ventas por Ciudad de distintos insumos informáticos\n",
        "\n",
        "Tienes dos tablas llamadas `Ventas` y `Productos`:\n",
        "\n",
        "- La tabla `Ventas` tiene las siguientes columnas:\n",
        "  - `VentaID` (INT)\n",
        "  - `ProductoID` (INT, FOREIGN KEY que referencia a `Productos(ProductoID)`)\n",
        "  - `CantidadVendida` (INT)\n",
        "  - `PrecioUnitario` (DECIMAL)\n",
        "  - `Ciudad` (VARCHAR)\n",
        "\n",
        "- La tabla `Productos` tiene las siguientes columnas:\n",
        "  - `ProductoID` (INT, PRIMARY KEY)\n",
        "  - `NombreProducto` (VARCHAR)\n",
        "  - `Precio` (DECIMAL)\n",
        "\n",
        "Deseas analizar las ventas por ciudad, combinando la información de ambas tablas para mostrar el nombre de los productos vendidos y el total de ingresos generados por cada ciudad."
      ],
      "metadata": {
        "id": "d3rKEPDHLNGe"
      }
    },
    {
      "cell_type": "code",
      "source": [
        "%%sql\n",
        "CREATE TABLE Productos (\n",
        "    ProductoID INT PRIMARY KEY,\n",
        "    NombreProducto VARCHAR,\n",
        "    Precio DECIMAL\n",
        ");\n",
        "\n",
        "CREATE TABLE Ventas (\n",
        "    VentaID INT,\n",
        "    ProductoID INT,\n",
        "    CantidadVendida INT,\n",
        "    PrecioUnitario DECIMAL,\n",
        "    Ciudad VARCHAR,\n",
        "    FOREIGN KEY (ProductoID) REFERENCES Productos(ProductoID)\n",
        ");\n"
      ],
      "metadata": {
        "colab": {
          "base_uri": "https://localhost:8080/"
        },
        "id": "UtScz2_sLNGh",
        "outputId": "beff1f3a-e408-43ef-c8ff-e429bcdb005d"
      },
      "execution_count": 2,
      "outputs": [
        {
          "output_type": "stream",
          "name": "stdout",
          "text": [
            " * sqlite:///ejemplos.db\n",
            "Done.\n",
            "Done.\n"
          ]
        },
        {
          "output_type": "execute_result",
          "data": {
            "text/plain": [
              "[]"
            ]
          },
          "metadata": {},
          "execution_count": 2
        }
      ]
    },
    {
      "cell_type": "markdown",
      "source": [
        "**Rellenado de la tabla Ventas**\n"
      ],
      "metadata": {
        "id": "TiaYcIEuLNGj"
      }
    },
    {
      "cell_type": "code",
      "source": [
        "%%sql\n",
        "-- Población de la tabla Productos\n",
        "INSERT INTO Productos (ProductoID, NombreProducto, Precio) VALUES\n",
        "(1, 'Laptop', 1000.00),\n",
        "(2, 'Teclado', 50.00),\n",
        "(3, 'Mouse', 25.00);\n",
        "\n",
        "-- Población de la tabla Ventas\n",
        "INSERT INTO Ventas (VentaID, ProductoID, CantidadVendida, PrecioUnitario, Ciudad) VALUES\n",
        "(1, 1, 10, 1000.00, 'Buenos Aires'),\n",
        "(2, 2, 20, 50.00, 'Córdoba'),\n",
        "(3, 3, 15, 25.00, 'Rosario'),\n",
        "(4, 1, 5, 1000.00, 'Córdoba'),\n",
        "(5, 1, 6, 1000.00, 'Buenos Aires');\n"
      ],
      "metadata": {
        "colab": {
          "base_uri": "https://localhost:8080/"
        },
        "id": "qldNJQgbLNGn",
        "outputId": "d9a6de9b-c579-430f-df15-fe85a8c71e72"
      },
      "execution_count": 3,
      "outputs": [
        {
          "output_type": "stream",
          "name": "stdout",
          "text": [
            " * sqlite:///ejemplos.db\n",
            "3 rows affected.\n",
            "5 rows affected.\n"
          ]
        },
        {
          "output_type": "execute_result",
          "data": {
            "text/plain": [
              "[]"
            ]
          },
          "metadata": {},
          "execution_count": 3
        }
      ]
    },
    {
      "cell_type": "markdown",
      "source": [
        "**Consignas del ejercicio:**\n",
        "\n",
        "1. Encuentre el total de ingresos (`CantidadVendida * PrecioUnitario`) por cada ciudad."
      ],
      "metadata": {
        "id": "F9EvtFEALNGp"
      }
    },
    {
      "cell_type": "code",
      "source": [
        "%%sql\n",
        "-- Escribe tu consulta SQL para calcular los ingresos por ciudad aquí\n",
        "SELECT Ciudad, SUM(CantidadVendida * PrecioUnitario) AS TotalIngresos\n",
        "FROM Ventas\n",
        "GROUP BY Ciudad;\n"
      ],
      "metadata": {
        "colab": {
          "base_uri": "https://localhost:8080/",
          "height": 141
        },
        "id": "oWouORxfLNGu",
        "outputId": "ceaaca93-9b80-4cb7-aa1e-b264b6470689"
      },
      "execution_count": 4,
      "outputs": [
        {
          "output_type": "stream",
          "name": "stdout",
          "text": [
            " * sqlite:///ejemplos.db\n",
            "Done.\n"
          ]
        },
        {
          "output_type": "execute_result",
          "data": {
            "text/plain": [
              "[('Buenos Aires', 16000), ('Córdoba', 6000), ('Rosario', 375)]"
            ],
            "text/html": [
              "<table>\n",
              "    <thead>\n",
              "        <tr>\n",
              "            <th>Ciudad</th>\n",
              "            <th>TotalIngresos</th>\n",
              "        </tr>\n",
              "    </thead>\n",
              "    <tbody>\n",
              "        <tr>\n",
              "            <td>Buenos Aires</td>\n",
              "            <td>16000</td>\n",
              "        </tr>\n",
              "        <tr>\n",
              "            <td>Córdoba</td>\n",
              "            <td>6000</td>\n",
              "        </tr>\n",
              "        <tr>\n",
              "            <td>Rosario</td>\n",
              "            <td>375</td>\n",
              "        </tr>\n",
              "    </tbody>\n",
              "</table>"
            ]
          },
          "metadata": {},
          "execution_count": 4
        }
      ]
    },
    {
      "cell_type": "markdown",
      "source": [
        "2. Escriba el código SQL para listar las Ciudades cuyo total de ingresos supera los $500."
      ],
      "metadata": {
        "id": "4MluztRCLNGv"
      }
    },
    {
      "cell_type": "code",
      "source": [
        "%%sql\n",
        "SELECT Ciudad, SUM(CantidadVendida * PrecioUnitario) AS TotalIngresos\n",
        "FROM Ventas\n",
        "GROUP BY Ciudad\n",
        "HAVING SUM(CantidadVendida * PrecioUnitario) > 500;\n"
      ],
      "metadata": {
        "colab": {
          "base_uri": "https://localhost:8080/",
          "height": 120
        },
        "id": "8mryQJKrLNGx",
        "outputId": "2aa6bb62-84e1-40d2-ec22-6ab0465beee9"
      },
      "execution_count": 5,
      "outputs": [
        {
          "output_type": "stream",
          "name": "stdout",
          "text": [
            " * sqlite:///ejemplos.db\n",
            "Done.\n"
          ]
        },
        {
          "output_type": "execute_result",
          "data": {
            "text/plain": [
              "[('Buenos Aires', 16000), ('Córdoba', 6000)]"
            ],
            "text/html": [
              "<table>\n",
              "    <thead>\n",
              "        <tr>\n",
              "            <th>Ciudad</th>\n",
              "            <th>TotalIngresos</th>\n",
              "        </tr>\n",
              "    </thead>\n",
              "    <tbody>\n",
              "        <tr>\n",
              "            <td>Buenos Aires</td>\n",
              "            <td>16000</td>\n",
              "        </tr>\n",
              "        <tr>\n",
              "            <td>Córdoba</td>\n",
              "            <td>6000</td>\n",
              "        </tr>\n",
              "    </tbody>\n",
              "</table>"
            ]
          },
          "metadata": {},
          "execution_count": 5
        }
      ]
    },
    {
      "cell_type": "markdown",
      "source": [
        "3. Modifique la consulta del inciso 2 para ordenar las Ciudades de mayor a menor ingreso total."
      ],
      "metadata": {
        "id": "f1fVcBd8LNGy"
      }
    },
    {
      "cell_type": "code",
      "source": [
        "%%sql\n",
        "-- Escribe tu consulta SQL aquí\n",
        "SELECT Ciudad, SUM(CantidadVendida * PrecioUnitario) AS TotalIngresos\n",
        "FROM Ventas\n",
        "GROUP BY Ciudad\n",
        "HAVING SUM(CantidadVendida * PrecioUnitario) > 500\n",
        "ORDER BY TotalIngresos DESC;\n"
      ],
      "metadata": {
        "colab": {
          "base_uri": "https://localhost:8080/",
          "height": 120
        },
        "id": "xWbuzWcrLNGz",
        "outputId": "dcfef665-ce29-42ce-e69e-cc5606fffe3a"
      },
      "execution_count": 6,
      "outputs": [
        {
          "output_type": "stream",
          "name": "stdout",
          "text": [
            " * sqlite:///ejemplos.db\n",
            "Done.\n"
          ]
        },
        {
          "output_type": "execute_result",
          "data": {
            "text/plain": [
              "[('Buenos Aires', 16000), ('Córdoba', 6000)]"
            ],
            "text/html": [
              "<table>\n",
              "    <thead>\n",
              "        <tr>\n",
              "            <th>Ciudad</th>\n",
              "            <th>TotalIngresos</th>\n",
              "        </tr>\n",
              "    </thead>\n",
              "    <tbody>\n",
              "        <tr>\n",
              "            <td>Buenos Aires</td>\n",
              "            <td>16000</td>\n",
              "        </tr>\n",
              "        <tr>\n",
              "            <td>Córdoba</td>\n",
              "            <td>6000</td>\n",
              "        </tr>\n",
              "    </tbody>\n",
              "</table>"
            ]
          },
          "metadata": {},
          "execution_count": 6
        }
      ]
    },
    {
      "cell_type": "markdown",
      "source": [
        "## Ejercicio 2: Promedio de Calificaciones por Curso\n",
        "\n",
        "Considera las siguientes tres tablas:\n",
        "\n",
        "- La tabla **Estudiantes** contiene información sobre los estudiantes inscritos:\n",
        "  - `EstudianteID` (INT, PRIMARY KEY)\n",
        "  - `Nombre` (VARCHAR)\n",
        "\n",
        "- La tabla **Cursos** contiene información sobre los cursos disponibles:\n",
        "  - `CursoID` (INT, PRIMARY KEY)\n",
        "  - `NombreCurso` (VARCHAR)\n",
        "\n",
        "- La tabla **Calificaciones** registra las notas de los estudiantes en los cursos:\n",
        "  - `CalificacionID` (INT, PRIMARY KEY)\n",
        "  - `EstudianteID` (INT, FOREIGN KEY que referencia a `Estudiantes(EstudianteID)`)\n",
        "  - `CursoID` (INT, FOREIGN KEY que referencia a `Cursos(CursoID)`)\n",
        "  - `Nota` (DECIMAL)\n",
        "\n",
        "En este ejercicio, debes analizar el rendimiento de los estudiantes en cada curso, combinando la información de las tres tablas."
      ],
      "metadata": {
        "id": "JQ0eFFCQLNG0"
      }
    },
    {
      "cell_type": "code",
      "source": [
        "%%sql\n",
        "-- Escribe aquí el código DDL para crear las tablas Estudiantes, Cursos y Calificaciones\n",
        "CREATE TABLE Estudiantes (\n",
        "    EstudianteID INT PRIMARY KEY,\n",
        "    Nombre VARCHAR\n",
        ");\n",
        "\n",
        "CREATE TABLE Cursos (\n",
        "    CursoID INT PRIMARY KEY,\n",
        "    NombreCurso VARCHAR\n",
        ");\n",
        "\n",
        "CREATE TABLE Calificaciones (\n",
        "    CalificacionID INT PRIMARY KEY,\n",
        "    EstudianteID INT,\n",
        "    CursoID INT,\n",
        "    Nota DECIMAL,\n",
        "    FOREIGN KEY (EstudianteID) REFERENCES Estudiantes(EstudianteID),\n",
        "    FOREIGN KEY (CursoID) REFERENCES Cursos(CursoID)\n",
        ");\n"
      ],
      "metadata": {
        "colab": {
          "base_uri": "https://localhost:8080/"
        },
        "id": "bZKp-15uLNG1",
        "outputId": "5a86cd52-d8e3-42b9-a9cc-8330bbd99c2c"
      },
      "execution_count": 7,
      "outputs": [
        {
          "output_type": "stream",
          "name": "stdout",
          "text": [
            " * sqlite:///ejemplos.db\n",
            "Done.\n",
            "Done.\n",
            "Done.\n"
          ]
        },
        {
          "output_type": "execute_result",
          "data": {
            "text/plain": [
              "[]"
            ]
          },
          "metadata": {},
          "execution_count": 7
        }
      ]
    },
    {
      "cell_type": "markdown",
      "source": [
        "**Población de la tabla Calificaciones**"
      ],
      "metadata": {
        "id": "3oYhJF64LNG4"
      }
    },
    {
      "cell_type": "code",
      "source": [
        "%%sql\n",
        "-- Población de la tabla Estudiantes\n",
        "INSERT INTO Estudiantes (EstudianteID, Nombre) VALUES\n",
        "(1, 'Ana'),\n",
        "(2, 'Luis'),\n",
        "(3, 'Carlos');\n",
        "\n",
        "-- Población de la tabla Cursos\n",
        "INSERT INTO Cursos (CursoID, NombreCurso) VALUES\n",
        "(1, 'Matemáticas'),\n",
        "(2, 'Historia'),\n",
        "(3, 'Ciencias');\n",
        "\n",
        "-- Población de la tabla Calificaciones\n",
        "INSERT INTO Calificaciones (CalificacionID, EstudianteID, CursoID, Nota) VALUES\n",
        "(1, 1, 1, 90),\n",
        "(2, 2, 1, 85),\n",
        "(3, 3, 1, 88),\n",
        "(4, 1, 2, 95),\n",
        "(5, 2, 2, 80),\n",
        "(6, 3, 2, 78),\n",
        "(7, 1, 3, 88),\n",
        "(8, 2, 3, 92),\n",
        "(9, 3, 3, 85);\n"
      ],
      "metadata": {
        "colab": {
          "base_uri": "https://localhost:8080/"
        },
        "id": "koAkYVvcLNG_",
        "outputId": "c5619810-a963-4cb2-b78c-10e062745ab2"
      },
      "execution_count": 8,
      "outputs": [
        {
          "output_type": "stream",
          "name": "stdout",
          "text": [
            " * sqlite:///ejemplos.db\n",
            "3 rows affected.\n",
            "3 rows affected.\n",
            "9 rows affected.\n"
          ]
        },
        {
          "output_type": "execute_result",
          "data": {
            "text/plain": [
              "[]"
            ]
          },
          "metadata": {},
          "execution_count": 8
        }
      ]
    },
    {
      "cell_type": "markdown",
      "source": [
        "**Consignas del ejercicio:**\n",
        "\n",
        "1. Encuentre el promedio de `Nota` para cada `Curso`."
      ],
      "metadata": {
        "id": "3uqoFDzeLNHB"
      }
    },
    {
      "cell_type": "code",
      "source": [
        "%%sql\n",
        "-- Escribe tu consulta SQL para calcular el promedio de cada curso aquí\n",
        "SELECT c.NombreCurso, AVG(cal.Nota) AS PromedioNota\n",
        "FROM Cursos c\n",
        "JOIN Calificaciones cal ON c.CursoID = cal.CursoID\n",
        "GROUP BY c.NombreCurso;\n"
      ],
      "metadata": {
        "colab": {
          "base_uri": "https://localhost:8080/",
          "height": 141
        },
        "id": "As7rujgMLNHB",
        "outputId": "b9494ab1-602d-49f5-9c45-8b53cbe90e10"
      },
      "execution_count": 9,
      "outputs": [
        {
          "output_type": "stream",
          "name": "stdout",
          "text": [
            " * sqlite:///ejemplos.db\n",
            "Done.\n"
          ]
        },
        {
          "output_type": "execute_result",
          "data": {
            "text/plain": [
              "[('Ciencias', 88.33333333333333),\n",
              " ('Historia', 84.33333333333333),\n",
              " ('Matemáticas', 87.66666666666667)]"
            ],
            "text/html": [
              "<table>\n",
              "    <thead>\n",
              "        <tr>\n",
              "            <th>NombreCurso</th>\n",
              "            <th>PromedioNota</th>\n",
              "        </tr>\n",
              "    </thead>\n",
              "    <tbody>\n",
              "        <tr>\n",
              "            <td>Ciencias</td>\n",
              "            <td>88.33333333333333</td>\n",
              "        </tr>\n",
              "        <tr>\n",
              "            <td>Historia</td>\n",
              "            <td>84.33333333333333</td>\n",
              "        </tr>\n",
              "        <tr>\n",
              "            <td>Matemáticas</td>\n",
              "            <td>87.66666666666667</td>\n",
              "        </tr>\n",
              "    </tbody>\n",
              "</table>"
            ]
          },
          "metadata": {},
          "execution_count": 9
        }
      ]
    },
    {
      "cell_type": "markdown",
      "source": [
        "2. Escriba el código SQL para listar los cursos con un promedio mayor a 85."
      ],
      "metadata": {
        "id": "V8_wQ8qfLNHC"
      }
    },
    {
      "cell_type": "code",
      "source": [
        "%%sql\n",
        "-- Escribe tu consulta SQL aquí\n",
        "SELECT c.NombreCurso, AVG(cal.Nota) AS PromedioNota\n",
        "FROM Cursos c\n",
        "JOIN Calificaciones cal ON c.CursoID = cal.CursoID\n",
        "GROUP BY c.NombreCurso\n",
        "HAVING AVG(cal.Nota) > 85;\n"
      ],
      "metadata": {
        "colab": {
          "base_uri": "https://localhost:8080/",
          "height": 120
        },
        "id": "c1GRKeuyLNHD",
        "outputId": "d6d20373-d2f2-4b31-81a4-1d711029ed1c"
      },
      "execution_count": 10,
      "outputs": [
        {
          "output_type": "stream",
          "name": "stdout",
          "text": [
            " * sqlite:///ejemplos.db\n",
            "Done.\n"
          ]
        },
        {
          "output_type": "execute_result",
          "data": {
            "text/plain": [
              "[('Ciencias', 88.33333333333333), ('Matemáticas', 87.66666666666667)]"
            ],
            "text/html": [
              "<table>\n",
              "    <thead>\n",
              "        <tr>\n",
              "            <th>NombreCurso</th>\n",
              "            <th>PromedioNota</th>\n",
              "        </tr>\n",
              "    </thead>\n",
              "    <tbody>\n",
              "        <tr>\n",
              "            <td>Ciencias</td>\n",
              "            <td>88.33333333333333</td>\n",
              "        </tr>\n",
              "        <tr>\n",
              "            <td>Matemáticas</td>\n",
              "            <td>87.66666666666667</td>\n",
              "        </tr>\n",
              "    </tbody>\n",
              "</table>"
            ]
          },
          "metadata": {},
          "execution_count": 10
        }
      ]
    }
  ],
  "metadata": {
    "colab": {
      "provenance": []
    },
    "kernelspec": {
      "name": "python3",
      "display_name": "Python 3"
    },
    "language_info": {
      "name": "python"
    }
  },
  "nbformat": 4,
  "nbformat_minor": 0
}